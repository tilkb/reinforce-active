{
 "cells": [
  {
   "cell_type": "code",
   "execution_count": 31,
   "metadata": {
    "collapsed": true
   },
   "outputs": [],
   "source": [
    "import pickle\n",
    "import matplotlib.pyplot as plt"
   ]
  },
  {
   "cell_type": "code",
   "execution_count": 32,
   "metadata": {},
   "outputs": [],
   "source": [
    "data = pickle.load(open(\"test.pickle\",'rb'))"
   ]
  },
  {
   "cell_type": "code",
   "execution_count": 33,
   "metadata": {},
   "outputs": [],
   "source": [
    "user=0\n",
    "word=1\n",
    "\n",
    "acc = data['layer1.weight'][3*user+word,:9]\n",
    "count = data['layer1.weight'][3*user+word,9:]\n"
   ]
  },
  {
   "cell_type": "code",
   "execution_count": 56,
   "metadata": {},
   "outputs": [
    {
     "name": "stdout",
     "output_type": "stream",
     "text": [
      "accuracy\n"
     ]
    }
   ],
   "source": [
    "print(\"accuracy\")\n",
    "counts=data['layer1.weight'][:,:9]\n",
    "plt.imshow(counts, cmap='hot')\n",
    "plt.xlabel(\"accuracy for the given word\")\n",
    "plt.ylabel(\"requested word\")\n",
    "#plt.show()\n",
    "plt.savefig(\"accuracy.png\",figsize=(8,8))"
   ]
  },
  {
   "cell_type": "code",
   "execution_count": 57,
   "metadata": {},
   "outputs": [
    {
     "name": "stdout",
     "output_type": "stream",
     "text": [
      "count\n"
     ]
    }
   ],
   "source": [
    "print(\"count\")\n",
    "counts=data['layer1.weight'][:,9:]\n",
    "plt.imshow(counts, cmap='hot')\n",
    "plt.xlabel(\"#word has been requested\")\n",
    "plt.ylabel(\"requested word\")\n",
    "#plt.show()\n",
    "plt.savefig(\"count.png\",figsize=(8,8))"
   ]
  },
  {
   "cell_type": "code",
   "execution_count": 40,
   "metadata": {},
   "outputs": [
    {
     "data": {
      "text/plain": [
       "OrderedDict([('layer1.weight', \n",
       "              \n",
       "              Columns 0 to 7 \n",
       "               -5.0288  -2.3368  -5.7589   1.0853  -0.1096   0.3629   4.7241  -3.7006\n",
       "                0.4819  -8.1976  -6.0515   2.8261   1.0514  -0.1351   5.2059  -2.1532\n",
       "                2.3797  -2.0020 -11.4259   3.9718   3.4850   4.6222   7.5371  -0.3518\n",
       "               -0.1478   4.7146  -0.6526  -5.6781  -3.7812  -4.5889  -4.3703   3.6616\n",
       "                0.0348  -5.4470  -2.6246   1.3564  -3.1982  -3.2362   4.6200   4.3236\n",
       "                1.5536   1.1433  -0.9821   2.3359   0.7454  -4.5806   6.6141  -1.5639\n",
       "               -0.2600   1.7387   2.4908   2.2659  -2.8246  -3.0953  -1.9843  -2.8061\n",
       "                2.5337   6.0913   2.8438  -1.4563  -4.7958  -3.3215   0.9670 -11.4209\n",
       "                1.3598   5.3405  -3.7731   4.8405   4.2061   2.0772   6.8992  -2.7675\n",
       "              \n",
       "              Columns 8 to 15 \n",
       "               -5.0644  -2.3315  33.4129  22.1587  15.5197   8.7273  31.4092  19.0728\n",
       "               -3.9325   4.4248  32.1741  19.1781  17.0852  17.9240  33.5202  12.6510\n",
       "               -0.8187  -2.1742  31.5569  15.1354  21.1633  16.5021  34.6071  17.0570\n",
       "               -5.0211  14.4538  43.2080  25.4842   0.1176  24.9391  41.1885  34.1365\n",
       "                0.2371  -1.3884  43.0427  29.2875  17.6545  13.1087  31.3583  15.1006\n",
       "               -2.0901   2.5349  39.2318  26.9387  15.9400  12.9449  35.1415  12.2104\n",
       "               -5.0732  -1.2822  47.8268  40.2676  13.3321  22.9435  36.9459  16.0467\n",
       "               -6.6690   4.3492  31.9649  34.4767   4.6354  19.6127  40.9004  21.6322\n",
       "              -10.4893  -3.3051  36.9117  25.0373  15.4109  21.7703  44.7447  10.6291\n",
       "              \n",
       "              Columns 16 to 17 \n",
       "               12.7055  30.3214\n",
       "               18.0920  39.4543\n",
       "               15.6116  40.1632\n",
       "               13.8334  38.4165\n",
       "               20.5143  35.3191\n",
       "               11.3928  42.6291\n",
       "                7.9185  36.4395\n",
       "               10.5399  22.4746\n",
       "               14.3509  40.7944\n",
       "              [torch.FloatTensor of size 9x18]), ('layer1.bias', \n",
       "               16.7397\n",
       "               13.7810\n",
       "                0.7246\n",
       "                6.4704\n",
       "                4.1848\n",
       "                2.2948\n",
       "                7.1929\n",
       "                9.4088\n",
       "               -1.5736\n",
       "              [torch.FloatTensor of size 9])])"
      ]
     },
     "execution_count": 40,
     "metadata": {},
     "output_type": "execute_result"
    }
   ],
   "source": [
    "data"
   ]
  },
  {
   "cell_type": "code",
   "execution_count": null,
   "metadata": {
    "collapsed": true
   },
   "outputs": [],
   "source": []
  }
 ],
 "metadata": {
  "kernelspec": {
   "display_name": "Python 3",
   "language": "python",
   "name": "python3"
  },
  "language_info": {
   "codemirror_mode": {
    "name": "ipython",
    "version": 3
   },
   "file_extension": ".py",
   "mimetype": "text/x-python",
   "name": "python",
   "nbconvert_exporter": "python",
   "pygments_lexer": "ipython3",
   "version": "3.6.1"
  }
 },
 "nbformat": 4,
 "nbformat_minor": 2
}
